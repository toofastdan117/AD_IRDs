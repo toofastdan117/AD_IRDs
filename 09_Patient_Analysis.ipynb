{
 "cells": [
  {
   "cell_type": "markdown",
   "id": "7d102040-f669-4bae-a855-92b623f99fa4",
   "metadata": {},
   "source": [
    "# **Patient Analysis**\n",
    "## This is for testing of patient parsing - the scripts tested here are \"patient_avinput.py\" and \"patient_concatenator\"."
   ]
  },
  {
   "cell_type": "code",
   "execution_count": 1,
   "id": "6bd4ad86-800f-4607-971e-8e6cdda127f6",
   "metadata": {},
   "outputs": [
    {
     "name": "stdout",
     "output_type": "stream",
     "text": [
      "c:\\Users\\TooFastDan\\OneDrive - Baylor College of Medicine\\BCM\\Projects\\Autosomal Dominant Predictor of IRDs\\manuscript\\GitHub\n"
     ]
    }
   ],
   "source": [
    "# Importing required packages\n",
    "import os\n",
    "import glob\n",
    "import re\n",
    "import pandas as pd\n",
    "import numpy as np\n",
    "\n",
    "# Setting working directory\n",
    "cwd = os.getcwd()\n",
    "print(cwd)"
   ]
  },
  {
   "cell_type": "markdown",
   "id": "756e85ec-f4dd-40f0-ac37-44a42bc007ec",
   "metadata": {},
   "source": [
    "## **Run this block if shell script does not merge all annovar csv output files**"
   ]
  },
  {
   "cell_type": "code",
   "execution_count": 2,
   "id": "32ca6bf7-0c68-4d1a-9a6d-07f8946e059d",
   "metadata": {},
   "outputs": [],
   "source": [
    "# Getting a list of all annotated csv files from ANNOVAR\n",
    "#patient_data = glob.glob(cwd+\"/patient_results/*.csv\")\n",
    "#print(\"Number of patient csv files: \" + str(len(patient_data)))\n",
    "\n",
    "# Attempting to read all ANNOVAR csv files, adding a patient_ID column and merging into a final df\n",
    "#annovar_df_list = []\n",
    "#for f in patient_data:\n",
    "#    try:\n",
    "#        patient_id = f.split(\"/\")[-1].replace(\".hg19_multianno.csv\", \"\")\n",
    "#        df = pd.read_csv(f)\n",
    "#        df[\"Patient_ID\"] = patient_id\n",
    "#        IDs = df.pop(\"Patient_ID\")\n",
    "#        df.insert(5, \"Patient_ID\", IDs)\n",
    "#        annovar_df_list.append(df)\n",
    "#    except:\n",
    "#        print(\"{} failed csv parsing - likely to no input in .final.analysis\".format(f))\n",
    "\n",
    "# Printing info about final_df\n",
    "#final_df = pd.concat(annovar_df_list, axis=0)\n",
    "#display(final_df.shape)\n",
    "#display(final_df.head())\n",
    "\n",
    "# Optional export of final_df\n",
    "#final_df.to_csv(cwd+\"/patient_data/annovar_patient_data.csv\", index=False)"
   ]
  },
  {
   "cell_type": "markdown",
   "id": "ea060b72-a748-4f5e-b182-027af5477d0f",
   "metadata": {},
   "source": [
    "## **Importing and Cleaning patient annovar data export**"
   ]
  },
  {
   "cell_type": "code",
   "execution_count": null,
   "id": "27d06234-4d87-4f42-b325-0837306421cd",
   "metadata": {},
   "outputs": [],
   "source": [
    "# Importing the annovar_patient_data.csv file from shell script output\n",
    "final_df = pd.read_csv(cwd+\"/patient_data/annovar_patient_data.csv\")\n",
    "final_df.head()"
   ]
  },
  {
   "cell_type": "markdown",
   "id": "752fc037-8cb9-4fff-99e7-c8315e1aa3e8",
   "metadata": {},
   "source": [
    "## **Test Cleaning extracted txt files with read counts, and allele frequencies**"
   ]
  },
  {
   "cell_type": "code",
   "execution_count": null,
   "id": "b4521458-9fd4-4a9c-9d4a-bc62bd3c5779",
   "metadata": {},
   "outputs": [],
   "source": [
    "# List of all patient txt files\n",
    "patient_txt_files = glob.glob(cwd+\"/patient_data/*.txt\")\n",
    "\n",
    "# Reading the df, cleaning up any rows with NA values, and reorganizing/making new columns\n",
    "df = pd.read_table(patient_txt_files[2], sep=\"\\t\", na_values=\".\")\n",
    "df = df.dropna(axis=0, how=\"all\") #dropping any rows with all NaN values\n",
    "df.columns = ['Chr', 'Start', 'End', 'Ref', 'Alt', 'Geno', 'gnomad_WES', 'gnomad_WGS']\n",
    "df[['Genotype', 'alt_reads', 'ref_reads', 'total_reads', 'delete']] = df[\"Geno\"].str.split(\":\", expand=True)\n",
    "\n",
    "# Finding allele count, frequency, and number from whole exome seq (WES) data\n",
    "gnomad_WES_AC = []\n",
    "gnomad_WES_AF = []\n",
    "gnomad_WES_AN = []\n",
    "for wes in df[\"gnomad_WES\"]:\n",
    "    try:\n",
    "        allele_count = float(re.findall(pattern=r\"AC:([-+]?\\d*\\.?\\d+(?:[eE][-+]?\\d+)?);\", string=wes)[0])\n",
    "        gnomad_WES_AC.append(allele_count)\n",
    "    except:\n",
    "        gnomad_WES_AC.append(np.nan)\n",
    "    try:\n",
    "        allele_freq = float(re.findall(pattern=r\"AF:([-+]?\\d*\\.?\\d+(?:[eE][-+]?\\d+)?);\", string=wes)[0])\n",
    "        gnomad_WES_AF.append(allele_freq)\n",
    "    except:\n",
    "        gnomad_WES_AF.append(np.nan)\n",
    "    try:\n",
    "        allele_number = float(re.findall(pattern=r\"AN:([-+]?\\d*\\.?\\d+(?:[eE][-+]?\\d+)?);\", string=wes)[0])\n",
    "        gnomad_WES_AN.append(allele_number)\n",
    "    except:\n",
    "        gnomad_WES_AN.append(np.nan)\n",
    "df[\"gnomad_WES_AC\"] = gnomad_WES_AC\n",
    "df[\"gnomad_WES_AF\"] = gnomad_WES_AF\n",
    "df[\"gnomad_WES_AN\"] = gnomad_WES_AN\n",
    "   \n",
    "# Finding allele count, frequency, and number from whole genome seq (WGS) data\n",
    "gnomad_WGS_AC = []\n",
    "gnomad_WGS_AF = []\n",
    "gnomad_WGS_AN = []\n",
    "for wgs in df[\"gnomad_WGS\"]:\n",
    "    try:\n",
    "        allele_count = float(re.findall(pattern=r\"AC:([-+]?\\d*\\.?\\d+(?:[eE][-+]?\\d+)?);\", string=wgs)[0])\n",
    "        gnomad_WGS_AC.append(allele_count)\n",
    "    except:\n",
    "        gnomad_WGS_AC.append(np.nan)\n",
    "    try:\n",
    "        allele_freq = float(re.findall(pattern=r\"AF:([-+]?\\d*\\.?\\d+(?:[eE][-+]?\\d+)?);\", string=wgs)[0])\n",
    "        gnomad_WGS_AF.append(allele_freq)\n",
    "    except:\n",
    "        gnomad_WGS_AF.append(np.nan)\n",
    "    try:\n",
    "        allele_number = float(re.findall(pattern=r\"AN:([-+]?\\d*\\.?\\d+(?:[eE][-+]?\\d+)?);\", string=wgs)[0])\n",
    "        gnomad_WGS_AN.append(allele_number)\n",
    "    except:\n",
    "        gnomad_WGS_AN.append(np.nan)\n",
    "df[\"gnomad_WGS_AC\"] = gnomad_WGS_AC\n",
    "df[\"gnomad_WGS_AF\"] = gnomad_WGS_AF\n",
    "df[\"gnomad_WGS_AN\"] = gnomad_WGS_AN\n",
    "\n",
    "# Deleting unessesary columns\n",
    "df = df.drop([\"delete\", \"gnomad_WES\", \"gnomad_WGS\"], axis=1)\n",
    "\n",
    "# Converting start/end and other columns to integers (otherwise ANNOVAR won't work)\n",
    "df[[\"Start\", \"End\", \"alt_reads\", \"ref_reads\", \"total_reads\"]] = df[[\"Start\", \"End\", \"alt_reads\", \"ref_reads\", \"total_reads\"]].astype(int)\n",
    "\n",
    "# Making a patient ID column\n",
    "patient_ID = patient_txt_files[2].split(\"/\")[-1].replace(\".txt\", \"\")\n",
    "df[\"Patient_ID\"] = patient_ID\n",
    "\n",
    "# Reorganizing columns\n",
    "df = df[['Chr', 'Start', 'End', 'Ref', 'Alt', 'Patient_ID', 'Geno', 'Genotype', 'alt_reads', 'ref_reads', 'total_reads', \n",
    "         'gnomad_WES_AC', 'gnomad_WGS_AC', 'gnomad_WES_AF', 'gnomad_WGS_AF', 'gnomad_WES_AN', 'gnomad_WGS_AN']]\n",
    "\n",
    "# Displaying the results\n",
    "display(df.shape)\n",
    "display(df.head())"
   ]
  },
  {
   "cell_type": "code",
   "execution_count": null,
   "id": "cf720851-cb47-4765-bedd-4fb789ca523c",
   "metadata": {},
   "outputs": [],
   "source": [
    "# List of all patient txt files\n",
    "patient_txt_files = glob.glob(cwd+\"/patient_data/*.txt\")\n",
    "\n",
    "for f in patient_txt_files:\n",
    "    # Reading the df, cleaning up any rows with NA values, and reorganizing/making new columns\n",
    "    df = pd.read_table(f, sep=\"\\t\", na_values=\".\")\n",
    "    df = df.dropna(axis=0, how=\"all\") #dropping any rows with all NaN values\n",
    "    df.columns = ['Chr', 'Start', 'End', 'Ref', 'Alt', 'Geno', 'gnomad_WES', 'gnomad_WGS']\n",
    "    df[['Genotype', 'alt_reads', 'ref_reads', 'total_reads', 'delete']] = df[\"Geno\"].str.split(\":\", expand=True)\n",
    "    \n",
    "    # Finding allele count, frequency, and number from whole exome seq (WES) data\n",
    "    gnomad_WES_AC = []\n",
    "    gnomad_WES_AF = []\n",
    "    gnomad_WES_AN = []\n",
    "    for wes in df[\"gnomad_WES\"]:\n",
    "        try:\n",
    "            allele_count = float(re.findall(pattern=r\"AC:([-+]?\\d*\\.?\\d+(?:[eE][-+]?\\d+)?);\", string=wes)[0])\n",
    "            gnomad_WES_AC.append(allele_count)\n",
    "        except:\n",
    "            gnomad_WES_AC.append(np.nan)\n",
    "        try:\n",
    "            allele_freq = float(re.findall(pattern=r\"AF:([-+]?\\d*\\.?\\d+(?:[eE][-+]?\\d+)?);\", string=wes)[0])\n",
    "            gnomad_WES_AF.append(allele_freq)\n",
    "        except:\n",
    "            gnomad_WES_AF.append(np.nan)\n",
    "        try:\n",
    "            allele_number = float(re.findall(pattern=r\"AN:([-+]?\\d*\\.?\\d+(?:[eE][-+]?\\d+)?);\", string=wes)[0])\n",
    "            gnomad_WES_AN.append(allele_number)\n",
    "        except:\n",
    "            gnomad_WES_AN.append(np.nan)\n",
    "    df[\"gnomad_WES_AC\"] = gnomad_WES_AC\n",
    "    df[\"gnomad_WES_AF\"] = gnomad_WES_AF\n",
    "    df[\"gnomad_WES_AN\"] = gnomad_WES_AN\n",
    "       \n",
    "    # Finding allele count, frequency, and number from whole genome seq (WGS) data\n",
    "    gnomad_WGS_AC = []\n",
    "    gnomad_WGS_AF = []\n",
    "    gnomad_WGS_AN = []\n",
    "    for wgs in df[\"gnomad_WGS\"]:\n",
    "        try:\n",
    "            allele_count = float(re.findall(pattern=r\"AC:([-+]?\\d*\\.?\\d+(?:[eE][-+]?\\d+)?);\", string=wgs)[0])\n",
    "            gnomad_WGS_AC.append(allele_count)\n",
    "        except:\n",
    "            gnomad_WGS_AC.append(np.nan)\n",
    "        try:\n",
    "            allele_freq = float(re.findall(pattern=r\"AF:([-+]?\\d*\\.?\\d+(?:[eE][-+]?\\d+)?);\", string=wgs)[0])\n",
    "            gnomad_WGS_AF.append(allele_freq)\n",
    "        except:\n",
    "            gnomad_WGS_AF.append(np.nan)\n",
    "        try:\n",
    "            allele_number = float(re.findall(pattern=r\"AN:([-+]?\\d*\\.?\\d+(?:[eE][-+]?\\d+)?);\", string=wgs)[0])\n",
    "            gnomad_WGS_AN.append(allele_number)\n",
    "        except:\n",
    "            gnomad_WGS_AN.append(np.nan)\n",
    "    df[\"gnomad_WGS_AC\"] = gnomad_WGS_AC\n",
    "    df[\"gnomad_WGS_AF\"] = gnomad_WGS_AF\n",
    "    df[\"gnomad_WGS_AN\"] = gnomad_WGS_AN\n",
    "    \n",
    "    # Deleting unessesary columns\n",
    "    df = df.drop([\"delete\", \"gnomad_WES\", \"gnomad_WGS\"], axis=1)\n",
    "    \n",
    "    # Converting start/end and other columns to integers (otherwise ANNOVAR won't work)\n",
    "    df[[\"Start\", \"End\", \"alt_reads\", \"ref_reads\", \"total_reads\"]] = df[[\"Start\", \"End\", \"alt_reads\", \"ref_reads\", \"total_reads\"]].astype(int)\n",
    "    \n",
    "    # Making a patient ID column\n",
    "    patient_ID = f.split(\"/\")[-1].replace(\".txt\", \"\")\n",
    "    df[\"Patient_ID\"] = patient_ID\n",
    "    \n",
    "    # Reorganizing columns\n",
    "    df = df[['Chr', 'Start', 'End', 'Ref', 'Alt', 'Patient_ID', 'Geno', 'Genotype', 'alt_reads', 'ref_reads', 'total_reads', \n",
    "             'gnomad_WES_AC', 'gnomad_WGS_AC', 'gnomad_WES_AF', 'gnomad_WGS_AF', 'gnomad_WES_AN', 'gnomad_WGS_AN']]\n",
    "    \n",
    "    # Displaying the results\n",
    "    print(\"\\n\"+patient_ID)\n",
    "    display(df.shape)\n",
    "    display(df.head())"
   ]
  },
  {
   "cell_type": "markdown",
   "id": "c449bbee-2ada-43bc-ba1a-59647eb364ee",
   "metadata": {},
   "source": [
    "## **Test Concatenating and merging ANNOVAR CSV with avinput**"
   ]
  },
  {
   "cell_type": "code",
   "execution_count": 68,
   "id": "c95c7fe7-6d44-4607-b017-3a43f4b34d8e",
   "metadata": {},
   "outputs": [
    {
     "data": {
      "text/plain": [
       "(1701, 17)"
      ]
     },
     "execution_count": 68,
     "metadata": {},
     "output_type": "execute_result"
    }
   ],
   "source": [
    "# List of patient avinput files\n",
    "patient_av_files = glob.glob(cwd+\"/patient_samples/*.avinput\")\n",
    "\n",
    "# Looping through avinput files, importing dfs, and appending to a list\n",
    "patient_av_list = []\n",
    "for av in patient_av_files:\n",
    "    try:\n",
    "        df = pd.read_table(av, header=None, names=['Chr', 'Start', 'End', 'Ref', 'Alt', 'Patient_ID', 'Geno', 'Genotype', \n",
    "                                                   'alt_reads', 'ref_reads', 'total_reads', 'gnomad_WES_AC', 'gnomad_WGS_AC', \n",
    "                                                   'gnomad_WES_AF', 'gnomad_WGS_AF', 'gnomad_WES_AN', 'gnomad_WGS_AN'])\n",
    "        patient_av_list.append(df)\n",
    "    except:\n",
    "        print(\"{} failed table parsing, likely due to no input in .final.analysis file\".format(av))\n",
    "\n",
    "# Concatenating avinput files\n",
    "patient_avinput = pd.concat(patient_av_list, axis=0)\n",
    "patient_avinput.shape"
   ]
  },
  {
   "cell_type": "code",
   "execution_count": 69,
   "id": "75662720-461f-43e8-a18c-77597687e7b5",
   "metadata": {},
   "outputs": [
    {
     "data": {
      "text/plain": [
       "(1701, 122)"
      ]
     },
     "execution_count": 69,
     "metadata": {},
     "output_type": "execute_result"
    }
   ],
   "source": [
    "# List of patient annotated csv files from ANNOVAR\n",
    "annovar_files = glob.glob(cwd+\"/patient_samples/*.csv\")\n",
    "\n",
    "# Looping through csv files, importing dfs, and appending to a list\n",
    "annovar_df_list = []\n",
    "for ann in annovar_files:\n",
    "    try:\n",
    "        patient_id = ann.split(\"/\")[-1].replace(\".hg19_multianno.csv\", \"\")\n",
    "        df = pd.read_csv(ann)\n",
    "        df[\"Patient_ID\"] = patient_id\n",
    "        IDs = df.pop(\"Patient_ID\")\n",
    "        df.insert(5, \"Patient_ID\", IDs)\n",
    "        annovar_df_list.append(df)\n",
    "    except:\n",
    "        print(\"{} failed csv parsing, likely due to no input in .final.analysis file\".format(ann))\n",
    "\n",
    "# Concatenating csv ANNOVAR files\n",
    "patient_annovar = pd.concat(annovar_df_list, axis=0)\n",
    "patient_annovar.shape"
   ]
  },
  {
   "cell_type": "code",
   "execution_count": null,
   "id": "e4ee4f77-a128-4cb3-8aa9-3e3a94784840",
   "metadata": {},
   "outputs": [],
   "source": [
    "# Merging patient annotated df from ANNOVAR with avinput files to get info about read count and allele frequency\n",
    "final_df = pd.merge(patient_avinput, patient_annovar, on=['Chr', 'Start', 'End', 'Ref', 'Alt', 'Patient_ID'])\n",
    "display(final_df.shape)\n",
    "display(final_df.head())"
   ]
  },
  {
   "cell_type": "code",
   "execution_count": 72,
   "id": "a7198195-dfce-453d-98c7-ec7cdaebe10b",
   "metadata": {},
   "outputs": [],
   "source": [
    "#final_df.to_excel(cwd+\"/patient_data/test_output.xlsx\", index=False)"
   ]
  },
  {
   "cell_type": "code",
   "execution_count": null,
   "id": "fa968e7c-92e3-47e7-bde1-efed3432b042",
   "metadata": {},
   "outputs": [],
   "source": []
  },
  {
   "cell_type": "code",
   "execution_count": null,
   "id": "e7e3c1db-c68b-41a6-bea5-0ee201af0cef",
   "metadata": {},
   "outputs": [],
   "source": []
  },
  {
   "cell_type": "code",
   "execution_count": null,
   "id": "9ab9dd30-b955-45f9-ad2f-d3ec3baece7b",
   "metadata": {},
   "outputs": [],
   "source": []
  },
  {
   "cell_type": "code",
   "execution_count": null,
   "id": "6c5b5c1f-a600-4193-ae34-5e2abfbbe360",
   "metadata": {},
   "outputs": [],
   "source": []
  },
  {
   "cell_type": "code",
   "execution_count": null,
   "id": "b9fd067b-56d2-418d-8097-77b2ff39784e",
   "metadata": {},
   "outputs": [],
   "source": []
  },
  {
   "cell_type": "code",
   "execution_count": null,
   "id": "8a91c722-d6b0-43ed-82c1-8a28f6099367",
   "metadata": {},
   "outputs": [],
   "source": []
  },
  {
   "cell_type": "code",
   "execution_count": null,
   "id": "310be8dd-f088-4f46-ba7b-3de8f57b4ee1",
   "metadata": {},
   "outputs": [],
   "source": []
  }
 ],
 "metadata": {
  "kernelspec": {
   "display_name": "Python 3 (ipykernel)",
   "language": "python",
   "name": "python3"
  },
  "language_info": {
   "codemirror_mode": {
    "name": "ipython",
    "version": 3
   },
   "file_extension": ".py",
   "mimetype": "text/x-python",
   "name": "python",
   "nbconvert_exporter": "python",
   "pygments_lexer": "ipython3",
   "version": "3.9.12"
  }
 },
 "nbformat": 4,
 "nbformat_minor": 5
}
